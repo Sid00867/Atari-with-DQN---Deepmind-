{
  "cells": [
    {
      "cell_type": "markdown",
      "metadata": {
        "id": "view-in-github",
        "colab_type": "text"
      },
      "source": [
        "<a href=\"https://colab.research.google.com/github/Sid00867/Atari-with-DQN---Deepmind-/blob/main/ataridqn.ipynb\" target=\"_parent\"><img src=\"https://colab.research.google.com/assets/colab-badge.svg\" alt=\"Open In Colab\"/></a>"
      ]
    },
    {
      "cell_type": "code",
      "execution_count": 15,
      "metadata": {
        "colab": {
          "base_uri": "https://localhost:8080/",
          "height": 0
        },
        "id": "PTdFHNO8I71U",
        "outputId": "d366f00d-4bd6-413a-f604-75a47aa93c61"
      },
      "outputs": [
        {
          "output_type": "stream",
          "name": "stdout",
          "text": [
            "Mounted at /content/drive\n"
          ]
        }
      ],
      "source": [
        "from google.colab import drive\n",
        "drive.mount('/content/drive')"
      ]
    },
    {
      "cell_type": "code",
      "execution_count": 1,
      "metadata": {
        "id": "fBDso8vSX-FN"
      },
      "outputs": [],
      "source": [
        "from ale_py.vector_env import AtariVectorEnv\n",
        "import numpy as np\n",
        "import random\n",
        "import gymnasium as gym # Import gymnasium as gym\n",
        "\n",
        "# Create a vector environment with 4 parallel instances of Breakout\n",
        "\n",
        "PARALLEL_ENVS = 4\n",
        "minibatch_samples = 32\n",
        "gamma = 0.99\n",
        "optimizer_learning_rate = 0.00025\n",
        "\n",
        "HELD_OUT_STATES_SIZE = 500\n",
        "Q_EVAL_FREQUENCY = 50000  # Evaluate every 50,000 frames\n",
        "TARGET_UPDATE_FREQUENCY = 8000\n",
        "\n",
        "# Epsilon annealing parameters\n",
        "epsilon_start = 1.0\n",
        "epsilon_end = 0.01\n",
        "epsilon_anneal_frames = 1_000_000  # Anneal over the first 1 million frames\n",
        "total_training_frames = 5_000_000  # Train for a total of 10 million frames\n",
        "replay_buffer_window = 150_000 # Increased for stability\n",
        "LEARNING_STARTS = 50_000  # Replay memory of 1 million frames\n",
        "steps_per_simulation = 64 # Simulate one step at a time to update epsilon more frequently\n",
        "\n",
        "replay_buffer = []\n",
        "T = total_training_frames # Use total_training_frames as the loop condition\n",
        "frame_count = 0 # Initialize frame counter\n",
        "\n",
        "\n",
        "envs = AtariVectorEnv(\n",
        "    game=\"breakout\",\n",
        "    num_envs=PARALLEL_ENVS,\n",
        "\n",
        "    frameskip=4,\n",
        "    grayscale=True,\n",
        "    stack_num=4,\n",
        "    img_height=84,\n",
        "    img_width=84,\n",
        "    maxpool=True,\n",
        "    reward_clipping=True,\n",
        "\n",
        "    noop_max=30,\n",
        "    use_fire_reset=True,\n",
        "    episodic_life=True,\n",
        "    life_loss_info=False,\n",
        "    max_num_frames_per_episode=108000,\n",
        "    repeat_action_probability=0.0,\n",
        "    full_action_space=False,\n",
        "    continuous=False,\n",
        "    continuous_action_threshold=0.5,\n",
        "\n",
        "    # no need to modify\n",
        "    batch_size=0,\n",
        "    autoreset_mode=gym.vector.AutoresetMode.NEXT_STEP, # Use gymnasium's AutoresetMode\n",
        "    num_threads=0,\n",
        "    thread_affinity_offset=-1,\n",
        ")"
      ]
    },
    {
      "cell_type": "code",
      "execution_count": 2,
      "metadata": {
        "colab": {
          "base_uri": "https://localhost:8080/",
          "height": 0
        },
        "id": "qCO_f_9JzeDc",
        "outputId": "5aba2794-b4a7-4296-f96a-fc44d82baaa8"
      },
      "outputs": [
        {
          "output_type": "stream",
          "name": "stdout",
          "text": [
            "Using device: cuda\n"
          ]
        },
        {
          "output_type": "execute_result",
          "data": {
            "text/plain": [
              "AtariCNN(\n",
              "  (conv1): Conv2d(4, 16, kernel_size=(8, 8), stride=(4, 4))\n",
              "  (conv2): Conv2d(16, 32, kernel_size=(4, 4), stride=(2, 2))\n",
              "  (fc1): Linear(in_features=2592, out_features=256, bias=True)\n",
              "  (fc2): Linear(in_features=256, out_features=4, bias=True)\n",
              ")"
            ]
          },
          "metadata": {},
          "execution_count": 2
        }
      ],
      "source": [
        "import torch\n",
        "import torch.nn as nn\n",
        "import torch.nn.functional as F\n",
        "\n",
        "# Check for GPU availability and set the device\n",
        "device = torch.device(\"cuda\" if torch.cuda.is_available() else \"cpu\")\n",
        "print(f\"Using device: {device}\")\n",
        "\n",
        "class AtariCNN(nn.Module):\n",
        "    def __init__(self):\n",
        "        super(AtariCNN, self).__init__()\n",
        "        self.conv1 = nn.Conv2d(4, 16, kernel_size=8, stride=4)\n",
        "        self.conv2 = nn.Conv2d(16, 32, kernel_size=4, stride=2)\n",
        "        self.fc1 = nn.Linear(32 * 9 * 9, 256)  # Calculate input size based on output of conv2\n",
        "        self.fc2 = nn.Linear(256, 4)\n",
        "\n",
        "    def forward(self, x):\n",
        "        x = F.relu(self.conv1(x))\n",
        "        x = F.relu(self.conv2(x))\n",
        "        x = x.view(x.size(0), -1)  # Flatten the output of conv2\n",
        "        x = F.relu(self.fc1(x))\n",
        "        x = self.fc2(x)\n",
        "        return x\n",
        "\n",
        "model = AtariCNN()\n",
        "model.to(device) # Move the model to the selected device\n",
        "\n",
        "target_model = AtariCNN()\n",
        "target_model.to(device)\n",
        "\n",
        "# Initialize target_model with the same weights as model\n",
        "target_model.load_state_dict(model.state_dict())\n",
        "\n",
        "# Set the target network to evaluation mode\n",
        "target_model.eval()"
      ]
    },
    {
      "cell_type": "code",
      "execution_count": 3,
      "metadata": {
        "id": "Xd75BLUidgWe"
      },
      "outputs": [],
      "source": [
        "def simulate_game(num_steps=1, epsilon=0.1):\n",
        "    observations, info = envs.reset()\n",
        "    resultdict = {}\n",
        "    frames_processed = 0\n",
        "\n",
        "    for step in range(num_steps):\n",
        "        if np.random.rand() < epsilon:\n",
        "            actions = envs.action_space.sample()\n",
        "        else:\n",
        "            # Create tensor and move it to the correct device\n",
        "            obs_tensor = torch.tensor(observations, dtype=torch.float32).to(device)\n",
        "\n",
        "            with torch.no_grad():\n",
        "                q_values = model(obs_tensor)\n",
        "\n",
        "            # Move tensor back to CPU before converting to numpy\n",
        "            actions = torch.argmax(q_values, axis=1).cpu().numpy()\n",
        "\n",
        "        prev_observations = observations.copy()\n",
        "        observations, rewards, terminations, truncations, infos = envs.step(actions)\n",
        "\n",
        "        frames_processed += 4 * PARALLEL_ENVS\n",
        "        resultdict[step] = (prev_observations, observations, actions, rewards, terminations, truncations)\n",
        "\n",
        "    return resultdict, frames_processed"
      ]
    },
    {
      "cell_type": "code",
      "execution_count": 4,
      "metadata": {
        "id": "kzMWuc5e62dQ"
      },
      "outputs": [],
      "source": [
        "def sample_minibatch( batch_size):\n",
        "  if len(replay_buffer) < batch_size:\n",
        "      # Not enough transitions to sample a full batch\n",
        "      return replay_buffer\n",
        "  minibatch = random.sample(replay_buffer, batch_size)\n",
        "  return minibatch"
      ]
    },
    {
      "cell_type": "code",
      "execution_count": 5,
      "metadata": {
        "colab": {
          "base_uri": "https://localhost:8080/",
          "height": 0
        },
        "id": "bd52f673",
        "outputId": "8faedb6b-a944-4a1a-debf-3ff28d36364c"
      },
      "outputs": [
        {
          "output_type": "stream",
          "name": "stdout",
          "text": [
            "Model weights initialized.\n"
          ]
        }
      ],
      "source": [
        "def initialize_weights(m):\n",
        "    if isinstance(m, nn.Conv2d):\n",
        "        nn.init.kaiming_normal_(m.weight, nonlinearity='relu')\n",
        "        if m.bias is not None:\n",
        "            nn.init.constant_(m.bias, 0)\n",
        "    elif isinstance(m, nn.Linear):\n",
        "        nn.init.kaiming_normal_(m.weight, nonlinearity='relu')\n",
        "        if m.bias is not None:\n",
        "            nn.init.constant_(m.bias, 0)\n",
        "\n",
        "model.apply(initialize_weights)\n",
        "\n",
        "print(\"Model weights initialized.\")"
      ]
    },
    {
      "cell_type": "code",
      "execution_count": 6,
      "metadata": {
        "colab": {
          "base_uri": "https://localhost:8080/",
          "height": 0
        },
        "id": "M9kIXpSFD3kd",
        "outputId": "0d200771-2c31-4aec-aa7c-d8e49d7de0fb"
      },
      "outputs": [
        {
          "output_type": "stream",
          "name": "stdout",
          "text": [
            "Collected 500 states.\n"
          ]
        }
      ],
      "source": [
        "held_out_states = []\n",
        "# Use a temporary environment instance to collect states\n",
        "temp_env = AtariVectorEnv(game=\"breakout\", num_envs=1, frameskip=4, grayscale=True, stack_num=4, img_height=84, img_width=84, maxpool=True)\n",
        "obs, _ = temp_env.reset()\n",
        "for _ in range(HELD_OUT_STATES_SIZE):\n",
        "    action = temp_env.action_space.sample()\n",
        "    next_obs, _, _, _, _ = temp_env.step(action)\n",
        "    # Add the observation from the single environment\n",
        "    held_out_states.append(torch.tensor(obs[0], dtype=torch.float32))\n",
        "    obs = next_obs\n",
        "temp_env.close()\n",
        "\n",
        "# Stack states into a single tensor and move to the device for efficient evaluation\n",
        "held_out_states_tensor = torch.stack(held_out_states).to(device)\n",
        "\n",
        "# Lists to store data for plotting\n",
        "eval_frames = []\n",
        "avg_q_values = []\n",
        "\n",
        "print(f\"Collected {len(held_out_states)} states.\")"
      ]
    },
    {
      "cell_type": "code",
      "execution_count": 7,
      "metadata": {
        "colab": {
          "base_uri": "https://localhost:8080/",
          "height": 0
        },
        "id": "Qhj9ncyxKd7a",
        "outputId": "65c35fbd-89e1-4903-e253-c1152f215853"
      },
      "outputs": [
        {
          "output_type": "stream",
          "name": "stderr",
          "text": [
            "\rTraining:   0%|          | 0/5000000 [00:00<?, ?frames/s]"
          ]
        }
      ],
      "source": [
        "from tqdm import tqdm\n",
        "\n",
        "latest_loss = 0.0\n",
        "latest_avg_q = 0.0\n",
        "\n",
        "progress_bar = tqdm(total=total_training_frames, unit='frames', desc=\"Training\")"
      ]
    },
    {
      "cell_type": "code",
      "execution_count": 8,
      "metadata": {
        "colab": {
          "base_uri": "https://localhost:8080/",
          "height": 0
        },
        "id": "B8dduvJADtbk",
        "outputId": "060c2f2a-50be-4a8c-f3be-bac29661e4c9"
      },
      "outputs": [
        {
          "output_type": "stream",
          "name": "stderr",
          "text": [
            "Training:   1%|          | 50176/5000000 [00:28<28:20, 2910.87frames/s]/tmp/ipython-input-224112536.py:56: DeprecationWarning: In future, it will be an error for 'np.bool' scalars to be interpreted as an index\n",
            "  done_batch = torch.tensor([m[4] or m[5] for m in minibatch]).bool().to(device)\n",
            "Training: 5000192frames [33:18, 2502.11frames/s, loss=34.8956, avg_q=71.41, epsilon=0.010]"
          ]
        },
        {
          "output_type": "stream",
          "name": "stdout",
          "text": [
            "Training finished.\n"
          ]
        },
        {
          "output_type": "stream",
          "name": "stderr",
          "text": [
            "\n"
          ]
        }
      ],
      "source": [
        "optimizer = torch.optim.RMSprop(model.parameters(), lr=optimizer_learning_rate, alpha=0.95, eps=0.01)\n",
        "\n",
        "while frame_count < total_training_frames:\n",
        "    if frame_count < epsilon_anneal_frames:\n",
        "        epsilon = epsilon_start - (frame_count / epsilon_anneal_frames) * (epsilon_start - epsilon_end)\n",
        "    else:\n",
        "        epsilon = epsilon_end\n",
        "\n",
        "    resultdict, frames_this_sim = simulate_game(num_steps=steps_per_simulation, epsilon=epsilon)\n",
        "\n",
        "    transition = []\n",
        "    for step in resultdict:\n",
        "        prev_observations, observations, actions, rewards, terminations, truncations = resultdict[step]\n",
        "        for i in range(PARALLEL_ENVS):\n",
        "            transition.append((prev_observations[i],\n",
        "                               actions[i],\n",
        "                               rewards[i],\n",
        "                               observations[i],\n",
        "                               terminations[i],\n",
        "                               truncations[i]))\n",
        "    replay_buffer += transition\n",
        "\n",
        "    if len(replay_buffer) > replay_buffer_window:\n",
        "        replay_buffer = replay_buffer[-replay_buffer_window:]\n",
        "\n",
        "    progress_bar.update(frames_this_sim)\n",
        "    frame_count += frames_this_sim\n",
        "\n",
        "    if frame_count > 0 and (len(eval_frames) == 0 or frame_count - eval_frames[-1] >= Q_EVAL_FREQUENCY):\n",
        "      # Set the model to evaluation mode\n",
        "      model.eval()\n",
        "      with torch.no_grad():\n",
        "          q_preds = model(held_out_states_tensor)\n",
        "          max_q, _ = torch.max(q_preds, dim=1)\n",
        "          avg_max_q = max_q.mean().item()\n",
        "          latest_avg_q = avg_max_q\n",
        "\n",
        "      eval_frames.append(frame_count)\n",
        "      avg_q_values.append(avg_max_q)\n",
        "      # print(f\"Frame: {frame_count} | Average Max-Q: {avg_max_q:.2f}\")\n",
        "\n",
        "      # Set the model back to training mode\n",
        "      model.train()\n",
        "\n",
        "\n",
        "\n",
        "    if len(replay_buffer) >= minibatch_samples and frame_count > LEARNING_STARTS:\n",
        "        minibatch = sample_minibatch(minibatch_samples)\n",
        "\n",
        "        # --- 1. Unpack the minibatch into separate tensors in one go ---\n",
        "        prev_obs_batch = torch.stack([torch.tensor(m[0]) for m in minibatch]).float().to(device)\n",
        "        action_batch = torch.tensor([m[1] for m in minibatch]).long().to(device)\n",
        "        reward_batch = torch.tensor([m[2] for m in minibatch]).float().to(device)\n",
        "        obs_batch = torch.stack([torch.tensor(m[3]) for m in minibatch]).float().to(device)\n",
        "        # Combine termination and truncation into a single 'done' flag\n",
        "        done_batch = torch.tensor([m[4] or m[5] for m in minibatch]).bool().to(device)\n",
        "\n",
        "        with torch.no_grad():\n",
        "            next_q_values_full = target_model(obs_batch)\n",
        "\n",
        "        # --- 3. Find the max Q-value for each of those next states ---\n",
        "        next_max_q_values, _ = torch.max(next_q_values_full, dim=1)\n",
        "\n",
        "        target_q_values = reward_batch + (~done_batch) * gamma * next_max_q_values\n",
        "\n",
        "        # --- 5. Get the predicted Q-values for the actions that were actually taken ---\n",
        "        predicted_q_values_full = model(prev_obs_batch)\n",
        "        predicted_q_for_actions = predicted_q_values_full.gather(1, action_batch.unsqueeze(1)).squeeze(1)\n",
        "\n",
        "        # --- 6. Calculate loss and update the model ---\n",
        "        loss = F.mse_loss(predicted_q_for_actions, target_q_values)\n",
        "        latest_loss = loss.item()\n",
        "\n",
        "        optimizer.zero_grad()\n",
        "        loss.backward()\n",
        "\n",
        "        torch.nn.utils.clip_grad_norm_(model.parameters(), max_norm=1.0)\n",
        "        optimizer.step()\n",
        "\n",
        "        if frame_count % TARGET_UPDATE_FREQUENCY == 0:\n",
        "          target_model.load_state_dict(model.state_dict())\n",
        "\n",
        "        progress_bar.set_postfix({\n",
        "            \"loss\": f\"{latest_loss:.4f}\",\n",
        "            \"avg_q\": f\"{latest_avg_q:.2f}\",\n",
        "            \"epsilon\": f\"{epsilon:.3f}\"\n",
        "        })\n",
        "\n",
        "progress_bar.close()\n",
        "envs.close()\n",
        "print(\"Training finished.\")"
      ]
    },
    {
      "cell_type": "code",
      "execution_count": 9,
      "metadata": {
        "id": "QQ3vAUkmHxgE",
        "colab": {
          "base_uri": "https://localhost:8080/",
          "height": 487
        },
        "outputId": "fa23e959-f0fe-432d-f169-395c7e5f2b36"
      },
      "outputs": [
        {
          "output_type": "display_data",
          "data": {
            "text/plain": [
              "<Figure size 1000x500 with 1 Axes>"
            ],
            "image/png": "[encoded data removed]"
          },
          "metadata": {}
        }
      ],
      "source": [
        "import matplotlib.pyplot as plt\n",
        "plt.figure(figsize=(10, 5))\n",
        "plt.plot(eval_frames, avg_q_values)\n",
        "plt.title(\"Average Max Q-Value on Held-Out States\")\n",
        "plt.xlabel(\"Training Frames\")\n",
        "plt.ylabel(\"Average Max Q-Value\")\n",
        "plt.grid(True)\n",
        "plt.show()"
      ]
    },
    {
      "cell_type": "code",
      "execution_count": 24,
      "metadata": {
        "id": "gmbuxaKpOtcw",
        "colab": {
          "base_uri": "https://localhost:8080/",
          "height": 0
        },
        "outputId": "10395e47-74cf-4383-b7e4-8445b58224b3"
      },
      "outputs": [
        {
          "output_type": "stream",
          "name": "stdout",
          "text": [
            "Running evaluation for 50 games...\n",
            "  Game 1/50 | Score: 0.0\n",
            "  Game 2/50 | Score: 0.0\n",
            "  Game 3/50 | Score: 0.0\n",
            "  Game 4/50 | Score: 0.0\n",
            "  Game 5/50 | Score: 0.0\n",
            "  Game 6/50 | Score: 0.0\n",
            "  Game 7/50 | Score: 0.0\n",
            "  Game 8/50 | Score: 0.0\n",
            "  Game 9/50 | Score: 0.0\n",
            "  Game 10/50 | Score: 0.0\n",
            "  Game 11/50 | Score: 0.0\n",
            "  Game 12/50 | Score: 0.0\n",
            "  Game 13/50 | Score: 0.0\n",
            "  Game 14/50 | Score: 0.0\n",
            "  Game 15/50 | Score: 0.0\n",
            "  Game 16/50 | Score: 0.0\n",
            "  Game 17/50 | Score: 0.0\n",
            "  Game 18/50 | Score: 0.0\n",
            "  Game 19/50 | Score: 0.0\n",
            "  Game 20/50 | Score: 0.0\n",
            "  Game 21/50 | Score: 0.0\n",
            "  Game 22/50 | Score: 0.0\n",
            "  Game 23/50 | Score: 0.0\n",
            "  Game 24/50 | Score: 0.0\n",
            "  Game 25/50 | Score: 0.0\n",
            "  Game 26/50 | Score: 0.0\n",
            "  Game 27/50 | Score: 0.0\n",
            "  Game 28/50 | Score: 0.0\n",
            "  Game 29/50 | Score: 0.0\n",
            "  Game 30/50 | Score: 0.0\n",
            "  Game 31/50 | Score: 0.0\n",
            "  Game 32/50 | Score: 0.0\n",
            "  Game 33/50 | Score: 0.0\n",
            "  Game 34/50 | Score: 0.0\n",
            "  Game 35/50 | Score: 0.0\n",
            "  Game 36/50 | Score: 0.0\n",
            "  Game 37/50 | Score: 0.0\n",
            "  Game 38/50 | Score: 0.0\n",
            "  Game 39/50 | Score: 0.0\n",
            "  Game 40/50 | Score: 0.0\n",
            "  Game 41/50 | Score: 0.0\n",
            "  Game 42/50 | Score: 0.0\n",
            "  Game 43/50 | Score: 0.0\n",
            "  Game 44/50 | Score: 0.0\n",
            "  Game 45/50 | Score: 0.0\n",
            "  Game 46/50 | Score: 0.0\n",
            "  Game 47/50 | Score: 0.0\n",
            "  Game 48/50 | Score: 0.0\n",
            "  Game 49/50 | Score: 0.0\n",
            "  Game 50/50 | Score: 0.0\n",
            "\n",
            "==============================\n",
            "Evaluation Complete!\n",
            "Average Score: 0.00 +/- 0.00\n",
            "==============================\n"
          ]
        }
      ],
      "source": [
        "def evaluate_policy(model, num_games=10, device=\"cuda\"):\n",
        "    eval_env = AtariVectorEnv(\n",
        "      game=\"breakout\",\n",
        "      num_envs=1,\n",
        "\n",
        "      frameskip=4,\n",
        "      grayscale=True,\n",
        "      stack_num=4,\n",
        "      img_height=84,\n",
        "      img_width=84,\n",
        "      maxpool=True,\n",
        "      reward_clipping=True, # Note: a score of 1.0 means one brick was hit\n",
        "\n",
        "      noop_max=30,\n",
        "      use_fire_reset=True,\n",
        "      episodic_life=True,\n",
        "      life_loss_info=False,\n",
        "      max_num_frames_per_episode=108000,\n",
        "      repeat_action_probability=0.0,\n",
        "      full_action_space=False,\n",
        "      continuous=False,\n",
        "      continuous_action_threshold=0.5,\n",
        "\n",
        "      batch_size=0,\n",
        "      autoreset_mode=gym.vector.AutoresetMode.NEXT_STEP,\n",
        "    )\n",
        "\n",
        "    episode_scores = []\n",
        "    model.eval()\n",
        "\n",
        "    print(f\"Running evaluation for {num_games} games...\")\n",
        "\n",
        "    for i in range(num_games):\n",
        "        obs, info = eval_env.reset()\n",
        "        done = False\n",
        "        total_reward = 0.0\n",
        "        current_lives = info['lives'][0]\n",
        "        while not done:\n",
        "\n",
        "            obs_tensor = torch.tensor(obs, dtype=torch.float32).to(device)\n",
        "\n",
        "            with torch.no_grad():\n",
        "                q_values = model(obs_tensor)\n",
        "\n",
        "            action = torch.argmax(q_values, dim=1).cpu().numpy()\n",
        "            obs, reward, terminated, truncated, infos = eval_env.step(action)\n",
        "\n",
        "            total_reward += reward[0]\n",
        "            done = terminated[0] or truncated[0]\n",
        "\n",
        "            new_lives = infos['lives'][0]\n",
        "            if new_lives < current_lives:\n",
        "                # A life was lost. We must fire, AND we must update the state.\n",
        "                # ✅ --- THIS IS THE FIX --- ✅\n",
        "                # Capture the new state after firing the ball.\n",
        "                obs, _, _, _, infos = eval_env.step(np.array([1], dtype=np.int32))\n",
        "                # It's possible the game ends right after this step, so update 'done'.\n",
        "                done = terminated[0] or truncated[0]\n",
        "\n",
        "            current_lives = new_lives\n",
        "\n",
        "        episode_scores.append(total_reward)\n",
        "        print(f\"  Game {i + 1}/{num_games} | Score: {total_reward}\")\n",
        "\n",
        "    eval_env.close()\n",
        "\n",
        "    avg_score = np.mean(episode_scores)\n",
        "    std_score = np.std(episode_scores)\n",
        "\n",
        "    return avg_score, std_score\n",
        "\n",
        "\n",
        "\n",
        "avg_score, std_score = evaluate_policy(model, num_games=50, device=device)\n",
        "print(\"\\n\" + \"=\"*30)\n",
        "print(f\"Evaluation Complete!\")\n",
        "print(f\"Average Score: {avg_score:.2f} +/- {std_score:.2f}\")\n",
        "print(\"=\"*30)"
      ]
    },
    {
      "cell_type": "code",
      "execution_count": 16,
      "metadata": {
        "id": "0WW40cIoJI6a",
        "colab": {
          "base_uri": "https://localhost:8080/",
          "height": 0
        },
        "outputId": "4d4e1fae-a276-4b25-d539-458dcba49c9b"
      },
      "outputs": [
        {
          "output_type": "stream",
          "name": "stdout",
          "text": [
            "Model saved to /content/drive/MyDrive/model_weights.pth\n"
          ]
        }
      ],
      "source": [
        "DEFAULT_PATH = '/content/drive/MyDrive/model_weights.pth'\n",
        "\n",
        "torch.save(model.state_dict(), DEFAULT_PATH)\n",
        "print(f\"Model saved to {DEFAULT_PATH}\")"
      ]
    }
  ],
  "metadata": {
    "accelerator": "GPU",
    "colab": {
      "gpuType": "T4",
      "provenance": [],
      "authorship_tag": "ABX9TyNbTApHcSMlQKI9Oq4d/ZcE",
      "include_colab_link": true
    },
    "kernelspec": {
      "display_name": "Python 3",
      "name": "python3"
    },
    "language_info": {
      "name": "python"
    }
  },
  "nbformat": 4,
  "nbformat_minor": 0
}